{
 "cells": [
  {
   "cell_type": "markdown",
   "metadata": {},
   "source": [
    "For a seamless eCommerce shopping experience, it is essential to deliver the product promptly to the customer.\n",
    "And that’s where a professional courier service plays a vital role.'Fastrack' courier company stores the relavant data of its clients and parcels in the form of dictionary.\n",
    "Create a dictionary for storing shipment information in key-value pairs. Shipment id is used as a key and list of other attributes like sender, receiver, start date,Delivery Date,sender_location,Receiver_location, Delivery status, Shipping cost is associated with shipment id.\n",
    "Use the data shown in the table below.\n",
    "\n",
    "\n",
    "\n",
    "\n",
    "\n",
    "| Shipment id |Sender | Receiver |Start date|Delivery Date| sender_location|Receiver_location|Delivery status|Shipping cost|\n",
    "| --- | --- | --- |--- | --- | --- |--- | --- | --- |\n",
    "| 101 | 1 | 3|14-03-2020|25-03-2020|Area1|Area6|Delivered|198|\n",
    "| 102 | 4 | 1|18-06-2020|09-07-2020|Area2|Area4|Delivered|275|\n",
    "| 103 | 2 | 3|01-12-2020|Null|Area5|Area1|In-Transit|200|\n",
    "| 104 | 1 | 5|23-06-2020|25-06-2020|Area1|Area4|Delivered|314|\n",
    "| 105 | 3 | 4|29-08-2020|10-09-2020|Area5|Area3|Delivered|275|\n",
    "| 106 | 5 | 2|28-06-2020|Null|Area3|Area1|In-Transit|270|\n",
    "\n",
    "\n",
    "Use below table to refer to clients data. Please note that a client can be a sender or receiver.\n",
    "\n",
    "\n",
    "|Client_id|Client Name|\n",
    "|---|---|\n",
    "|1|Phillip|\n",
    "|2|Omega III|\n",
    "|3|Ramya|\n",
    "|4|Romesh|\n",
    "|5|John|\n",
    "\n"
   ]
  },
  {
   "cell_type": "markdown",
   "metadata": {},
   "source": [
    "### Q1. Create a Dictionary of lists to store the information of shipments given in the table"
   ]
  },
  {
   "cell_type": "code",
   "execution_count": null,
   "metadata": {},
   "outputs": [],
   "source": [
    "\n",
    "ds={101:{'Sender':1,'Receiver':3,'Start date':'14-03-2020','Delivery date':'25-03-2020','Sender location':'Area 1','Receiver location':'Area 6','Delivery status':'Delivered','Shipping cost':198}, \n",
    "    102:{'Sender':4,'Receiver':1,'Start date':'18-06-2020','Delivery date':'09-07-2020','Sender location':'Area 2','Receiver location':'Area 4','Delivery status':'Delivered','Shipping cost':275}, \n",
    "    103:{'Sender':2,'Receiver':3,'Start date':'01-12-2020','Delivery date':'Null','Sender location':'Area 5','Receiver location':'Area 1','Delivery status':'In Transit','Shipping cost':200}, \n",
    "    104:{'Sender':1,'Receiver':5,'Start date':'23-06-2020','Delivery date':'25-06-2020','Sender location':'Area 1','Receiver location':'Area 4','Delivery status':'Delivered','Shipping cost':314},\n",
    "    105:{'Sender':3,'Receiver':4,'Start date':'29-08-2020','Delivery date':'10-09-2020','Sender location':'Area 5','Receiver location':'Area 3','Delivery status':'Delivered','Shipping cost':275}, \n",
    "    106:{'Sender':5,'Receiver':2,'Start date':'28-06-2020','Delivery date':'Null','Sender location':'Area 3','Receiver location':'Area 1','Delivery status':'In Transit','Shipping cost':270}}\n",
    "ds"
   ]
  },
  {
   "cell_type": "markdown",
   "metadata": {},
   "source": [
    "### Q2. Create a Dictionary of to store the information of clients given in the table."
   ]
  },
  {
   "cell_type": "code",
   "execution_count": null,
   "metadata": {},
   "outputs": [],
   "source": [
    "dc={1:'Phillip',2:'Omega III',3:'Ramya',4:'Romesh',5:'John'}\n",
    "dc"
   ]
  },
  {
   "cell_type": "markdown",
   "metadata": {},
   "source": [
    "### Q3. Write a code to replace clients id with their respective name in shipment dictionary using a loop and dictionary comprehension"
   ]
  },
  {
   "cell_type": "code",
   "execution_count": null,
   "metadata": {},
   "outputs": [],
   "source": [
    "# CAN BE DONE WITH DICTIONARY COMPREHENSION WITH LOOPS\n",
    "result = {key:{k: dc[v] if k in ('Sender', 'Receiver') else v for k,v in value.items()} for key, value in ds.items()}\n",
    "result"
   ]
  },
  {
   "cell_type": "code",
   "execution_count": null,
   "metadata": {},
   "outputs": [],
   "source": [
    "#or WITH FOR LOOP\n",
    "for key,value in ds.items():\n",
    "    for k,v in value.items():\n",
    "        if k in('Sender','Receiver'):\n",
    "            print({key:{k:dc[v]}})\n",
    "        else:\n",
    "            print({key:{k:v}})\n",
    "            "
   ]
  },
  {
   "cell_type": "markdown",
   "metadata": {},
   "source": [
    "### Q4. Print all shipment details that are sent by Phillip"
   ]
  },
  {
   "cell_type": "code",
   "execution_count": null,
   "metadata": {},
   "outputs": [],
   "source": [
    "for key,value in ds.items():\n",
    "    for k,v in value.items():\n",
    "        if ds[key]['Sender']==1:\n",
    "            print({key:value})\n",
    "            break\n",
    "        "
   ]
  },
  {
   "cell_type": "markdown",
   "metadata": {},
   "source": [
    "### Q5. Print all shipment details that are received by Ramya"
   ]
  },
  {
   "cell_type": "code",
   "execution_count": null,
   "metadata": {},
   "outputs": [],
   "source": [
    "for key,value in ds.items():\n",
    "    for k,v in value.items():\n",
    "        if ds[key]['Receiver']==3:\n",
    "            print({key:value})\n",
    "            break"
   ]
  },
  {
   "cell_type": "markdown",
   "metadata": {},
   "source": [
    "### Q6. Print all shipments which are in 'In-Transit' status"
   ]
  },
  {
   "cell_type": "code",
   "execution_count": null,
   "metadata": {},
   "outputs": [],
   "source": [
    "for key,value in ds.items():\n",
    "    for k,v in value.items():\n",
    "        if ds[key]['Delivery status']=='In Transit':\n",
    "            print({key:value})\n",
    "            break"
   ]
  },
  {
   "cell_type": "markdown",
   "metadata": {},
   "source": [
    "### Q7. Print all shipments which are delivered within 7 days of courier Start date"
   ]
  },
  {
   "cell_type": "code",
   "execution_count": 35,
   "metadata": {},
   "outputs": [],
   "source": [
    "\n",
    "from datetime import datetime\n",
    "for key,value in ds.items():\n",
    "    for k,v in value.items():\n",
    "        if ds[key][k]=='Start date':\n",
    "            a=datetime.datetime.strptime('Start date',\"%d-%m-%y\")\n",
    "            b=datetime.datetime.strptime('Delivery date',\"%d-%m-%y\")\n",
    "            if (a-b)<=datetime.timedelta(days=7):\n",
    "                print({key:value})\n",
    "            "
   ]
  },
  {
   "cell_type": "markdown",
   "metadata": {},
   "source": [
    "### Q8. Print all shipments which are delivered after 15 days of courier start date or not yet been delivered."
   ]
  },
  {
   "cell_type": "code",
   "execution_count": null,
   "metadata": {},
   "outputs": [],
   "source": [
    "from datetime import datetime\n",
    "for key,value in ds.items():\n",
    "    for k,v in value.items():\n",
    "        if ds[key][k]=='Start date':\n",
    "            a=datetime.datetime.strptime('Start date',\"%d-%m-%y\")\n",
    "            b=datetime.datetime.strptime('Delivery date',\"%d-%m-%y\")\n",
    "            if (a-b)>datetime.timedelta(days=15):\n",
    "                print({key:value})\n",
    "            "
   ]
  }
 ],
 "metadata": {
  "kernelspec": {
   "display_name": "Python 3",
   "language": "python",
   "name": "python3"
  },
  "language_info": {
   "codemirror_mode": {
    "name": "ipython",
    "version": 3
   },
   "file_extension": ".py",
   "mimetype": "text/x-python",
   "name": "python",
   "nbconvert_exporter": "python",
   "pygments_lexer": "ipython3",
   "version": "3.8.8"
  }
 },
 "nbformat": 4,
 "nbformat_minor": 2
}
